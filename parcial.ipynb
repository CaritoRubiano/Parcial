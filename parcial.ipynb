{
 "cells": [
  {
   "cell_type": "markdown",
   "metadata": {
    "id": "Gc4-KlF6F6kF",
    "tags": []
   },
   "source": [
    "# Gestión de Datos\n",
    "\n",
    "Parcial 1 \n",
    "Univerisdad Javeriana  \n",
    "August, 2022  \n",
    "  \n",
    "Dataset: StudentsPerformance_exam1"
   ]
  },
  {
   "cell_type": "markdown",
   "metadata": {
    "id": "sUpDd_9OOnCx"
   },
   "source": [
    "## **EDA StudentsPerformance_exam1**"
   ]
  },
  {
   "cell_type": "markdown",
   "metadata": {
    "id": "zEgaTbHXRre-"
   },
   "source": [
    "### General"
   ]
  },
  {
   "cell_type": "code",
   "execution_count": 1,
   "metadata": {
    "id": "e8aoZAGcF6kO"
   },
   "outputs": [],
   "source": [
    "# Importing libraries\n",
    "\n",
    "import numpy as np\n",
    "import pandas as pd\n",
    "from datetime import datetime\n",
    "\n",
    "import matplotlib.pyplot as plt\n",
    "import seaborn as sns\n",
    "\n",
    "from pandas_profiling import ProfileReport\n",
    "\n",
    "import pylev\n",
    "\n",
    "%matplotlib inline"
   ]
  },
  {
   "cell_type": "code",
   "execution_count": 11,
   "metadata": {
    "id": "8K1A6Z5kF6kR"
   },
   "outputs": [],
   "source": [
    "# Configuración de Panadas\n",
    "pd.set_option('display.max_rows', 100)\n",
    "pd.set_option('display.max_columns', 100)"
   ]
  },
  {
   "cell_type": "code",
   "execution_count": 12,
   "metadata": {
    "id": "OpnWn2w2F6kS"
   },
   "outputs": [],
   "source": [
    "# Carga de datos desde archivo CSV\n",
    "students_performance_df = pd.read_csv('data/StudentsPerformance_exam1.csv',sep=\",\",header= 0)"
   ]
  },
  {
   "cell_type": "code",
   "execution_count": 13,
   "metadata": {},
   "outputs": [],
   "source": [
    "# 1 ¿Qué tipo de variables tiene el dataset? Detalle el tipo de variable de cada columna."
   ]
  },
  {
   "cell_type": "code",
   "execution_count": 14,
   "metadata": {
    "id": "bNaqLaUWF6kU"
   },
   "outputs": [
    {
     "data": {
      "text/html": [
       "<div>\n",
       "<style scoped>\n",
       "    .dataframe tbody tr th:only-of-type {\n",
       "        vertical-align: middle;\n",
       "    }\n",
       "\n",
       "    .dataframe tbody tr th {\n",
       "        vertical-align: top;\n",
       "    }\n",
       "\n",
       "    .dataframe thead th {\n",
       "        text-align: right;\n",
       "    }\n",
       "</style>\n",
       "<table border=\"1\" class=\"dataframe\">\n",
       "  <thead>\n",
       "    <tr style=\"text-align: right;\">\n",
       "      <th></th>\n",
       "      <th>gender</th>\n",
       "      <th>race/ethnicity</th>\n",
       "      <th>parental level of education</th>\n",
       "      <th>lunch</th>\n",
       "      <th>test preparation course</th>\n",
       "      <th>math score</th>\n",
       "      <th>reading score</th>\n",
       "      <th>writing score</th>\n",
       "    </tr>\n",
       "  </thead>\n",
       "  <tbody>\n",
       "    <tr>\n",
       "      <th>0</th>\n",
       "      <td>non-binary</td>\n",
       "      <td>group B</td>\n",
       "      <td>bachelor's degree</td>\n",
       "      <td>standard</td>\n",
       "      <td>none</td>\n",
       "      <td>72.0</td>\n",
       "      <td>72.0</td>\n",
       "      <td>NaN</td>\n",
       "    </tr>\n",
       "    <tr>\n",
       "      <th>1</th>\n",
       "      <td>female</td>\n",
       "      <td>group C</td>\n",
       "      <td>some college</td>\n",
       "      <td>standard</td>\n",
       "      <td>completed</td>\n",
       "      <td>69.0</td>\n",
       "      <td>90.0</td>\n",
       "      <td>88.0</td>\n",
       "    </tr>\n",
       "    <tr>\n",
       "      <th>2</th>\n",
       "      <td>female</td>\n",
       "      <td>group B</td>\n",
       "      <td>master's degree</td>\n",
       "      <td>standard</td>\n",
       "      <td>none</td>\n",
       "      <td>90.0</td>\n",
       "      <td>95.0</td>\n",
       "      <td>93.0</td>\n",
       "    </tr>\n",
       "    <tr>\n",
       "      <th>3</th>\n",
       "      <td>male</td>\n",
       "      <td>group A</td>\n",
       "      <td>associate's degree</td>\n",
       "      <td>free/reduced</td>\n",
       "      <td>none</td>\n",
       "      <td>NaN</td>\n",
       "      <td>57.0</td>\n",
       "      <td>44.0</td>\n",
       "    </tr>\n",
       "    <tr>\n",
       "      <th>4</th>\n",
       "      <td>male</td>\n",
       "      <td>group C</td>\n",
       "      <td>some college</td>\n",
       "      <td>standard</td>\n",
       "      <td>none</td>\n",
       "      <td>76.0</td>\n",
       "      <td>78.0</td>\n",
       "      <td>75.0</td>\n",
       "    </tr>\n",
       "  </tbody>\n",
       "</table>\n",
       "</div>"
      ],
      "text/plain": [
       "       gender race/ethnicity parental level of education         lunch  \\\n",
       "0  non-binary        group B           bachelor's degree      standard   \n",
       "1      female        group C                some college      standard   \n",
       "2      female        group B             master's degree      standard   \n",
       "3        male        group A          associate's degree  free/reduced   \n",
       "4        male        group C                some college      standard   \n",
       "\n",
       "  test preparation course  math score  reading score  writing score  \n",
       "0                    none        72.0           72.0            NaN  \n",
       "1               completed        69.0           90.0           88.0  \n",
       "2                    none        90.0           95.0           93.0  \n",
       "3                    none         NaN           57.0           44.0  \n",
       "4                    none        76.0           78.0           75.0  "
      ]
     },
     "execution_count": 14,
     "metadata": {},
     "output_type": "execute_result"
    }
   ],
   "source": [
    "# Vista inicial del dataFrame\n",
    "students_performance_df.head()"
   ]
  },
  {
   "cell_type": "code",
   "execution_count": 15,
   "metadata": {
    "colab": {
     "base_uri": "https://localhost:8080/"
    },
    "id": "cdMj7993F6kV",
    "outputId": "fa831061-96fb-4f56-a50b-f7d6a36f6eda"
   },
   "outputs": [
    {
     "name": "stdout",
     "output_type": "stream",
     "text": [
      "<class 'pandas.core.frame.DataFrame'>\n",
      "RangeIndex: 1000 entries, 0 to 999\n",
      "Data columns (total 8 columns):\n",
      " #   Column                       Non-Null Count  Dtype  \n",
      "---  ------                       --------------  -----  \n",
      " 0   gender                       953 non-null    object \n",
      " 1   race/ethnicity               955 non-null    object \n",
      " 2   parental level of education  940 non-null    object \n",
      " 3   lunch                        946 non-null    object \n",
      " 4   test preparation course      959 non-null    object \n",
      " 5   math score                   949 non-null    float64\n",
      " 6   reading score                952 non-null    float64\n",
      " 7   writing score                951 non-null    float64\n",
      "dtypes: float64(3), object(5)\n",
      "memory usage: 62.6+ KB\n"
     ]
    }
   ],
   "source": [
    "# Dimensiones del DataFrame junto con el tipo de datos de las variables\n",
    "students_performance_df.info()"
   ]
  },
  {
   "cell_type": "code",
   "execution_count": 30,
   "metadata": {},
   "outputs": [
    {
     "data": {
      "text/plain": [
       "gender                          object\n",
       "race/ethnicity                  object\n",
       "parental level of education     object\n",
       "lunch                           object\n",
       "test preparation course         object\n",
       "math score                     float64\n",
       "reading score                  float64\n",
       "writing score                  float64\n",
       "dtype: object"
      ]
     },
     "execution_count": 30,
     "metadata": {},
     "output_type": "execute_result"
    }
   ],
   "source": [
    "students_performance_df.dtypes"
   ]
  },
  {
   "cell_type": "code",
   "execution_count": 16,
   "metadata": {},
   "outputs": [],
   "source": [
    "# 2. ¿Qué tipo de problemas de calidad de datos logra identificar? \n",
    "# Defina e implemente las estrategias de limpieza de datos que correspondan."
   ]
  },
  {
   "cell_type": "markdown",
   "metadata": {
    "id": "uIxk8JQ7F6kX"
   },
   "source": [
    "### Calidad de los Datos"
   ]
  },
  {
   "cell_type": "code",
   "execution_count": 17,
   "metadata": {
    "colab": {
     "base_uri": "https://localhost:8080/"
    },
    "id": "DYdEsAKIF6kY",
    "outputId": "175041e3-8ea2-495c-dd73-6bc108f9e436",
    "tags": []
   },
   "outputs": [
    {
     "data": {
      "text/plain": [
       "array(['non-binary', 'female', 'male', nan], dtype=object)"
      ]
     },
     "execution_count": 17,
     "metadata": {},
     "output_type": "execute_result"
    }
   ],
   "source": [
    "# Datos unicos de la columna gender\n",
    "students_performance_df['gender'].unique()"
   ]
  },
  {
   "cell_type": "code",
   "execution_count": 18,
   "metadata": {},
   "outputs": [
    {
     "data": {
      "text/plain": [
       "array(['group B', 'group C', 'group A', 'group D', 'group E', nan],\n",
       "      dtype=object)"
      ]
     },
     "execution_count": 18,
     "metadata": {},
     "output_type": "execute_result"
    }
   ],
   "source": [
    "# Datos unicos de la columna race/ethnicity\n",
    "students_performance_df['race/ethnicity'].unique()"
   ]
  },
  {
   "cell_type": "code",
   "execution_count": 41,
   "metadata": {},
   "outputs": [
    {
     "data": {
      "text/plain": [
       "array([\"bachelor's degree\", 'some high school', \"master's degree\",\n",
       "       \"associate's degree\", 'high school', nan], dtype=object)"
      ]
     },
     "execution_count": 41,
     "metadata": {},
     "output_type": "execute_result"
    }
   ],
   "source": [
    "# Datos unicos de la columna parental level of education\n",
    "students_performance_df['parental level of education'].unique()"
   ]
  },
  {
   "cell_type": "code",
   "execution_count": 20,
   "metadata": {},
   "outputs": [
    {
     "data": {
      "text/plain": [
       "array(['standard', 'free/reduced', nan], dtype=object)"
      ]
     },
     "execution_count": 20,
     "metadata": {},
     "output_type": "execute_result"
    }
   ],
   "source": [
    "# Datos unicos de la columna parental lunch\n",
    "students_performance_df['lunch'].unique()"
   ]
  },
  {
   "cell_type": "code",
   "execution_count": 22,
   "metadata": {},
   "outputs": [
    {
     "data": {
      "text/plain": [
       "array(['none', 'completed', nan], dtype=object)"
      ]
     },
     "execution_count": 22,
     "metadata": {},
     "output_type": "execute_result"
    }
   ],
   "source": [
    "# Datos unicos de la columna test preparation course \n",
    "students_performance_df['test preparation course'].unique()"
   ]
  },
  {
   "cell_type": "code",
   "execution_count": 49,
   "metadata": {},
   "outputs": [
    {
     "data": {
      "text/plain": [
       "gender                         47\n",
       "race/ethnicity                 45\n",
       "parental level of education    60\n",
       "lunch                          54\n",
       "test preparation course        41\n",
       "math score                     51\n",
       "reading score                  48\n",
       "writing score                  49\n",
       "dtype: int64"
      ]
     },
     "execution_count": 49,
     "metadata": {},
     "output_type": "execute_result"
    }
   ],
   "source": [
    "# Datos nulos por variable\n",
    "students_performance_df.isnull().sum()"
   ]
  },
  {
   "cell_type": "code",
   "execution_count": 56,
   "metadata": {},
   "outputs": [
    {
     "data": {
      "text/plain": [
       "array([ 72.,  69.,  90.,  nan,  76.,  71.,  88.,  40.,  64.,  38.,  58.,\n",
       "        65.,  78.,  50.,  18.,  46.,  54.,  66.,  44.,  74.,  73.,  67.,\n",
       "        63.,  56.,  97.,  81.,  75.,  55.,  53.,  59.,  57.,  82.,  77.,\n",
       "        33.,  79.,  39.,  62.,  45.,  60.,  41.,  61.,  49.,  30.,  47.,\n",
       "        42.,  27.,  43.,  68.,  85.,  98.,  87.,  52.,  70.,  51.,  99.,\n",
       "        84.,  91.,  83.,  89.,  22., 100.,  96.,  94.,  80.,  48.,  35.,\n",
       "        34.,  86.,  92.,  37.,  28.,  24.,  26.,  95.,  36.,  29.,  32.,\n",
       "        93.,  19.,  23.,   8.])"
      ]
     },
     "execution_count": 56,
     "metadata": {},
     "output_type": "execute_result"
    }
   ],
   "source": [
    "# Datos unicos de la columna math score\n",
    "students_performance_df['math score'].unique()"
   ]
  },
  {
   "cell_type": "code",
   "execution_count": 26,
   "metadata": {},
   "outputs": [
    {
     "data": {
      "text/plain": [
       "array([ 72.,  90.,  95.,  57.,  78.,  83.,  43.,  64.,  60.,  54.,  52.,\n",
       "        81.,  53.,  75.,  89.,  32.,  42.,  58.,  69.,  73.,  71.,  74.,\n",
       "        70.,  65.,  87.,  56.,  61.,  84.,  55.,  44.,  nan,  41.,  85.,\n",
       "        59.,  17.,  80.,  37.,  51.,  49.,  26.,  68.,  45.,  39.,  86.,\n",
       "        34.,  79.,  66.,  67.,  91., 100.,  63.,  76.,  77.,  82.,  92.,\n",
       "        93.,  62.,  88.,  50.,  28.,  48.,  46.,  23.,  38.,  94.,  97.,\n",
       "        99.,  31.,  47.,  96.,  24.,  29.,  40.])"
      ]
     },
     "execution_count": 26,
     "metadata": {},
     "output_type": "execute_result"
    }
   ],
   "source": [
    "# Datos unicos de la columna reading score\n",
    "students_performance_df['reading score'].unique()"
   ]
  },
  {
   "cell_type": "code",
   "execution_count": 28,
   "metadata": {},
   "outputs": [
    {
     "data": {
      "text/plain": [
       "array([ nan,  88.,  93.,  44.,  75.,  78.,  92.,  39.,  67.,  50.,  52.,\n",
       "        43.,  73.,  70.,  58.,  86.,  28.,  46.,  61.,  63.,  53.,  80.,\n",
       "        72.,  55.,  65.,  74.,  38.,  82.,  79.,  83.,  59.,  57.,  54.,\n",
       "        68.,  66.,  62.,  76.,  48.,  42.,  87.,  49.,  10.,  34.,  71.,\n",
       "        37.,  56.,  41.,  22.,  81.,  45.,  36.,  89.,  47.,  90., 100.,\n",
       "        64.,  98.,  51.,  40.,  84.,  69.,  33.,  60.,  85.,  91.,  77.,\n",
       "        27.,  94.,  95.,  19.,  35.,  32.,  96.,  97.,  99.,  15.,  30.,\n",
       "        23.])"
      ]
     },
     "execution_count": 28,
     "metadata": {},
     "output_type": "execute_result"
    }
   ],
   "source": [
    "# Datos unicos de la columna gender\n",
    "students_performance_df['writing score'].unique()"
   ]
  },
  {
   "cell_type": "code",
   "execution_count": 29,
   "metadata": {},
   "outputs": [],
   "source": [
    "# Al validar los datos se encuentran por cada variable:\n",
    "# gender:                     Se encuentran datos nulos, es decir la columna presenta falta de completitud\n",
    "#race/ethnicity:              Se encuentran datos nulos, es decir la columna presenta falta de completitud, \n",
    "#                             por otro lado los grupos no indican cual es la race/ethnicity es decir variable\n",
    "#                             no tiene datos precisos ni relevantes.\n",
    "#parental level of education: Se encuentran datos nulos, es decir la columna presenta falta de completitud,\n",
    "#                             por otro lado, se representa de diferentes formas el mismo dato lo cual indica\n",
    "#                             que los datos de la variable no son conformes.\n",
    "#lunch:                       Se encuentran datos nulos, es decir la columna presenta falta de completitud\n",
    "#test preparation course:     Se encuentran datos nulos, es decir la columna presenta falta de completitud\n",
    "#math score:                  Se encuentran datos nulos, es decir la columna presenta falta de completitud\n",
    "#reading score:               Se encuentran datos nulos, es decir la columna presenta falta de completitud\n",
    "#writing score:               Se encuentran datos nulos, es decir la columna presenta falta de completitud"
   ]
  },
  {
   "cell_type": "code",
   "execution_count": 42,
   "metadata": {},
   "outputs": [],
   "source": [
    "#Se crea un diccionario para la variable parental education\n",
    "level_education_list = [\"bachelor's degree\", 'college', \"master's degree\",\n",
    "       \"associate's degree\", 'high school']"
   ]
  },
  {
   "cell_type": "code",
   "execution_count": 47,
   "metadata": {},
   "outputs": [
    {
     "data": {
      "text/plain": [
       "array(['some high school', nan], dtype=object)"
      ]
     },
     "execution_count": 47,
     "metadata": {},
     "output_type": "execute_result"
    }
   ],
   "source": [
    "students_performance_df.loc[~students_performance_df[\"parental level of education\"].isin(level_education_list), \"parental level of education\"].unique()"
   ]
  },
  {
   "cell_type": "code",
   "execution_count": 46,
   "metadata": {},
   "outputs": [],
   "source": [
    "students_performance_df[\"parental level of education\"] = students_performance_df[\"parental level of education\"].replace([\"some college\",\"college\"],['some high school',\"high school\"])"
   ]
  },
  {
   "cell_type": "code",
   "execution_count": 64,
   "metadata": {},
   "outputs": [],
   "source": [
    "#Asignar 0 a las calificaciones con datos nulos\n",
    "students_performance_df[\"math score\"] = students_performance_df[\"math score\"].fillna(0)\n",
    "students_performance_df[\"reading score\"] = students_performance_df[\"reading score\"].fillna(0)\n",
    "students_performance_df[\"writing score\"] = students_performance_df[\"writing score\"].fillna(0)"
   ]
  },
  {
   "cell_type": "code",
   "execution_count": 78,
   "metadata": {},
   "outputs": [
    {
     "data": {
      "text/plain": [
       "math score       62.806\n",
       "reading score    65.933\n",
       "writing score    64.841\n",
       "dtype: float64"
      ]
     },
     "execution_count": 78,
     "metadata": {},
     "output_type": "execute_result"
    }
   ],
   "source": [
    "#3. ¿En qué asignatura en promedio los estudiantes obtuvieron un mejor puntaje? \n",
    "#¿Hay evidencia de algún sesgo en la distribución de dichos puntajes?\n",
    "students_performance_df[['math score', 'reading score',\"writing score\"]].mean()"
   ]
  },
  {
   "cell_type": "code",
   "execution_count": 72,
   "metadata": {},
   "outputs": [],
   "source": [
    "#El mejor promedio se obtuvo en la materia de reading"
   ]
  },
  {
   "cell_type": "code",
   "execution_count": 77,
   "metadata": {},
   "outputs": [
    {
     "data": {
      "text/html": [
       "<div>\n",
       "<style scoped>\n",
       "    .dataframe tbody tr th:only-of-type {\n",
       "        vertical-align: middle;\n",
       "    }\n",
       "\n",
       "    .dataframe tbody tr th {\n",
       "        vertical-align: top;\n",
       "    }\n",
       "\n",
       "    .dataframe thead th {\n",
       "        text-align: right;\n",
       "    }\n",
       "</style>\n",
       "<table border=\"1\" class=\"dataframe\">\n",
       "  <thead>\n",
       "    <tr style=\"text-align: right;\">\n",
       "      <th></th>\n",
       "      <th>math score</th>\n",
       "      <th>reading score</th>\n",
       "      <th>writing score</th>\n",
       "    </tr>\n",
       "  </thead>\n",
       "  <tbody>\n",
       "    <tr>\n",
       "      <th>math score</th>\n",
       "      <td>1.00000</td>\n",
       "      <td>0.685630</td>\n",
       "      <td>0.637280</td>\n",
       "    </tr>\n",
       "    <tr>\n",
       "      <th>reading score</th>\n",
       "      <td>0.68563</td>\n",
       "      <td>1.000000</td>\n",
       "      <td>0.808399</td>\n",
       "    </tr>\n",
       "    <tr>\n",
       "      <th>writing score</th>\n",
       "      <td>0.63728</td>\n",
       "      <td>0.808399</td>\n",
       "      <td>1.000000</td>\n",
       "    </tr>\n",
       "  </tbody>\n",
       "</table>\n",
       "</div>"
      ],
      "text/plain": [
       "               math score  reading score  writing score\n",
       "math score        1.00000       0.685630       0.637280\n",
       "reading score     0.68563       1.000000       0.808399\n",
       "writing score     0.63728       0.808399       1.000000"
      ]
     },
     "execution_count": 77,
     "metadata": {},
     "output_type": "execute_result"
    }
   ],
   "source": [
    "#4. ¿Existe alguna correlación entre los puntajes obtenidos en las tres asignaturas?\n",
    "students_performance_df[['math score', 'reading score',\"writing score\"]].corr('spearman')"
   ]
  },
  {
   "cell_type": "code",
   "execution_count": null,
   "metadata": {},
   "outputs": [],
   "source": [
    "#Se encuentra una alta correlación entre las variables reading score y writing score"
   ]
  },
  {
   "cell_type": "code",
   "execution_count": 86,
   "metadata": {},
   "outputs": [
    {
     "data": {
      "text/html": [
       "<div>\n",
       "<style scoped>\n",
       "    .dataframe tbody tr th:only-of-type {\n",
       "        vertical-align: middle;\n",
       "    }\n",
       "\n",
       "    .dataframe tbody tr th {\n",
       "        vertical-align: top;\n",
       "    }\n",
       "\n",
       "    .dataframe thead th {\n",
       "        text-align: right;\n",
       "    }\n",
       "</style>\n",
       "<table border=\"1\" class=\"dataframe\">\n",
       "  <thead>\n",
       "    <tr style=\"text-align: right;\">\n",
       "      <th></th>\n",
       "      <th>math score</th>\n",
       "      <th>reading score</th>\n",
       "      <th>writing score</th>\n",
       "    </tr>\n",
       "    <tr>\n",
       "      <th>gender</th>\n",
       "      <th></th>\n",
       "      <th></th>\n",
       "      <th></th>\n",
       "    </tr>\n",
       "  </thead>\n",
       "  <tbody>\n",
       "    <tr>\n",
       "      <th>female</th>\n",
       "      <td>25695.0</td>\n",
       "      <td>28964.0</td>\n",
       "      <td>29488.0</td>\n",
       "    </tr>\n",
       "    <tr>\n",
       "      <th>male</th>\n",
       "      <td>24995.0</td>\n",
       "      <td>24329.0</td>\n",
       "      <td>23164.0</td>\n",
       "    </tr>\n",
       "    <tr>\n",
       "      <th>non-binary</th>\n",
       "      <td>9153.0</td>\n",
       "      <td>9710.0</td>\n",
       "      <td>9187.0</td>\n",
       "    </tr>\n",
       "  </tbody>\n",
       "</table>\n",
       "</div>"
      ],
      "text/plain": [
       "            math score  reading score  writing score\n",
       "gender                                              \n",
       "female         25695.0        28964.0        29488.0\n",
       "male           24995.0        24329.0        23164.0\n",
       "non-binary      9153.0         9710.0         9187.0"
      ]
     },
     "execution_count": 86,
     "metadata": {},
     "output_type": "execute_result"
    }
   ],
   "source": [
    "#5. ¿Hay alguna diferencia observable en los puntajes de la asignatura de matemáticas entre géneros? \n",
    "#¿Qué género obtuvo en promedio los mejorespuntajes?\n",
    "students_performance_df.groupby(['gender']).sum()"
   ]
  },
  {
   "cell_type": "code",
   "execution_count": 88,
   "metadata": {},
   "outputs": [],
   "source": [
    "#La diferencia que salta a la vista es que el genero no-binary obtuvo menor puntaje y \n",
    "#quienes obtuvieron mayor puntaje fue el genero female"
   ]
  },
  {
   "cell_type": "code",
   "execution_count": null,
   "metadata": {},
   "outputs": [],
   "source": [
    "#6 ¿Qué nivel de escolaridad tienen los padres de los estudiantes que obtuvieron\n",
    "#un puntaje por encima del percentil 85 en la asignatura de escritura? ¿Cómo se\n",
    "#distribuye la escolaridad entre esta población?."
   ]
  },
  {
   "cell_type": "code",
   "execution_count": 89,
   "metadata": {},
   "outputs": [
    {
     "data": {
      "text/html": [
       "<div>\n",
       "<style scoped>\n",
       "    .dataframe tbody tr th:only-of-type {\n",
       "        vertical-align: middle;\n",
       "    }\n",
       "\n",
       "    .dataframe tbody tr th {\n",
       "        vertical-align: top;\n",
       "    }\n",
       "\n",
       "    .dataframe thead th {\n",
       "        text-align: right;\n",
       "    }\n",
       "</style>\n",
       "<table border=\"1\" class=\"dataframe\">\n",
       "  <thead>\n",
       "    <tr style=\"text-align: right;\">\n",
       "      <th></th>\n",
       "      <th>math score</th>\n",
       "      <th>reading score</th>\n",
       "      <th>writing score</th>\n",
       "    </tr>\n",
       "  </thead>\n",
       "  <tbody>\n",
       "    <tr>\n",
       "      <th>count</th>\n",
       "      <td>1000.000000</td>\n",
       "      <td>1000.000000</td>\n",
       "      <td>1000.000000</td>\n",
       "    </tr>\n",
       "    <tr>\n",
       "      <th>mean</th>\n",
       "      <td>62.806000</td>\n",
       "      <td>65.933000</td>\n",
       "      <td>64.841000</td>\n",
       "    </tr>\n",
       "    <tr>\n",
       "      <th>std</th>\n",
       "      <td>20.668516</td>\n",
       "      <td>20.517443</td>\n",
       "      <td>20.853119</td>\n",
       "    </tr>\n",
       "    <tr>\n",
       "      <th>min</th>\n",
       "      <td>0.000000</td>\n",
       "      <td>0.000000</td>\n",
       "      <td>0.000000</td>\n",
       "    </tr>\n",
       "    <tr>\n",
       "      <th>25%</th>\n",
       "      <td>54.000000</td>\n",
       "      <td>58.000000</td>\n",
       "      <td>55.000000</td>\n",
       "    </tr>\n",
       "    <tr>\n",
       "      <th>50%</th>\n",
       "      <td>65.000000</td>\n",
       "      <td>69.000000</td>\n",
       "      <td>68.000000</td>\n",
       "    </tr>\n",
       "    <tr>\n",
       "      <th>75%</th>\n",
       "      <td>76.000000</td>\n",
       "      <td>79.000000</td>\n",
       "      <td>78.000000</td>\n",
       "    </tr>\n",
       "    <tr>\n",
       "      <th>max</th>\n",
       "      <td>100.000000</td>\n",
       "      <td>100.000000</td>\n",
       "      <td>100.000000</td>\n",
       "    </tr>\n",
       "  </tbody>\n",
       "</table>\n",
       "</div>"
      ],
      "text/plain": [
       "        math score  reading score  writing score\n",
       "count  1000.000000    1000.000000    1000.000000\n",
       "mean     62.806000      65.933000      64.841000\n",
       "std      20.668516      20.517443      20.853119\n",
       "min       0.000000       0.000000       0.000000\n",
       "25%      54.000000      58.000000      55.000000\n",
       "50%      65.000000      69.000000      68.000000\n",
       "75%      76.000000      79.000000      78.000000\n",
       "max     100.000000     100.000000     100.000000"
      ]
     },
     "execution_count": 89,
     "metadata": {},
     "output_type": "execute_result"
    }
   ],
   "source": [
    "students_performance_df.describe()"
   ]
  },
  {
   "cell_type": "code",
   "execution_count": 102,
   "metadata": {},
   "outputs": [
    {
     "data": {
      "text/plain": [
       "83.0"
      ]
     },
     "execution_count": 102,
     "metadata": {},
     "output_type": "execute_result"
    }
   ],
   "source": [
    "percentile_85 = np.percentile(students_performance_df[\"writing score\"], 85)\n",
    "percentile_85"
   ]
  },
  {
   "cell_type": "code",
   "execution_count": null,
   "metadata": {},
   "outputs": [
    {
     "data": {
      "text/html": [
       "<div>\n",
       "<style scoped>\n",
       "    .dataframe tbody tr th:only-of-type {\n",
       "        vertical-align: middle;\n",
       "    }\n",
       "\n",
       "    .dataframe tbody tr th {\n",
       "        vertical-align: top;\n",
       "    }\n",
       "\n",
       "    .dataframe thead th {\n",
       "        text-align: right;\n",
       "    }\n",
       "</style>\n",
       "<table border=\"1\" class=\"dataframe\">\n",
       "  <thead>\n",
       "    <tr style=\"text-align: right;\">\n",
       "      <th></th>\n",
       "      <th>gender</th>\n",
       "      <th>race/ethnicity</th>\n",
       "      <th>parental level of education</th>\n",
       "      <th>lunch</th>\n",
       "      <th>test preparation course</th>\n",
       "      <th>math score</th>\n",
       "      <th>reading score</th>\n",
       "      <th>writing score</th>\n",
       "    </tr>\n",
       "  </thead>\n",
       "  <tbody>\n",
       "    <tr>\n",
       "      <th>1</th>\n",
       "      <td>female</td>\n",
       "      <td>group C</td>\n",
       "      <td>some high school</td>\n",
       "      <td>standard</td>\n",
       "      <td>completed</td>\n",
       "      <td>69.0</td>\n",
       "      <td>90.0</td>\n",
       "      <td>88.0</td>\n",
       "    </tr>\n",
       "    <tr>\n",
       "      <th>2</th>\n",
       "      <td>female</td>\n",
       "      <td>group B</td>\n",
       "      <td>master's degree</td>\n",
       "      <td>standard</td>\n",
       "      <td>none</td>\n",
       "      <td>90.0</td>\n",
       "      <td>95.0</td>\n",
       "      <td>93.0</td>\n",
       "    </tr>\n",
       "    <tr>\n",
       "      <th>6</th>\n",
       "      <td>non-binary</td>\n",
       "      <td>group B</td>\n",
       "      <td>some high school</td>\n",
       "      <td>standard</td>\n",
       "      <td>completed</td>\n",
       "      <td>88.0</td>\n",
       "      <td>95.0</td>\n",
       "      <td>92.0</td>\n",
       "    </tr>\n",
       "    <tr>\n",
       "      <th>16</th>\n",
       "      <td>male</td>\n",
       "      <td>group C</td>\n",
       "      <td>high school</td>\n",
       "      <td>standard</td>\n",
       "      <td>none</td>\n",
       "      <td>88.0</td>\n",
       "      <td>89.0</td>\n",
       "      <td>86.0</td>\n",
       "    </tr>\n",
       "    <tr>\n",
       "      <th>54</th>\n",
       "      <td>female</td>\n",
       "      <td>group C</td>\n",
       "      <td>some high school</td>\n",
       "      <td>free/reduced</td>\n",
       "      <td>completed</td>\n",
       "      <td>71.0</td>\n",
       "      <td>84.0</td>\n",
       "      <td>87.0</td>\n",
       "    </tr>\n",
       "    <tr>\n",
       "      <th>...</th>\n",
       "      <td>...</td>\n",
       "      <td>...</td>\n",
       "      <td>...</td>\n",
       "      <td>...</td>\n",
       "      <td>...</td>\n",
       "      <td>...</td>\n",
       "      <td>...</td>\n",
       "      <td>...</td>\n",
       "    </tr>\n",
       "    <tr>\n",
       "      <th>979</th>\n",
       "      <td>female</td>\n",
       "      <td>group C</td>\n",
       "      <td>associate's degree</td>\n",
       "      <td>standard</td>\n",
       "      <td>none</td>\n",
       "      <td>91.0</td>\n",
       "      <td>95.0</td>\n",
       "      <td>94.0</td>\n",
       "    </tr>\n",
       "    <tr>\n",
       "      <th>982</th>\n",
       "      <td>male</td>\n",
       "      <td>group B</td>\n",
       "      <td>some high school</td>\n",
       "      <td>standard</td>\n",
       "      <td>completed</td>\n",
       "      <td>79.0</td>\n",
       "      <td>85.0</td>\n",
       "      <td>86.0</td>\n",
       "    </tr>\n",
       "    <tr>\n",
       "      <th>983</th>\n",
       "      <td>female</td>\n",
       "      <td>group A</td>\n",
       "      <td>some high school</td>\n",
       "      <td>standard</td>\n",
       "      <td>completed</td>\n",
       "      <td>78.0</td>\n",
       "      <td>87.0</td>\n",
       "      <td>91.0</td>\n",
       "    </tr>\n",
       "    <tr>\n",
       "      <th>995</th>\n",
       "      <td>female</td>\n",
       "      <td>group E</td>\n",
       "      <td>master's degree</td>\n",
       "      <td>standard</td>\n",
       "      <td>completed</td>\n",
       "      <td>88.0</td>\n",
       "      <td>0.0</td>\n",
       "      <td>95.0</td>\n",
       "    </tr>\n",
       "    <tr>\n",
       "      <th>999</th>\n",
       "      <td>female</td>\n",
       "      <td>group D</td>\n",
       "      <td>some high school</td>\n",
       "      <td>free/reduced</td>\n",
       "      <td>none</td>\n",
       "      <td>77.0</td>\n",
       "      <td>86.0</td>\n",
       "      <td>86.0</td>\n",
       "    </tr>\n",
       "  </tbody>\n",
       "</table>\n",
       "<p>146 rows × 8 columns</p>\n",
       "</div>"
      ],
      "text/plain": [
       "         gender race/ethnicity parental level of education         lunch  \\\n",
       "1        female        group C            some high school      standard   \n",
       "2        female        group B             master's degree      standard   \n",
       "6    non-binary        group B            some high school      standard   \n",
       "16         male        group C                 high school      standard   \n",
       "54       female        group C            some high school  free/reduced   \n",
       "..          ...            ...                         ...           ...   \n",
       "979      female        group C          associate's degree      standard   \n",
       "982        male        group B            some high school      standard   \n",
       "983      female        group A            some high school      standard   \n",
       "995      female        group E             master's degree      standard   \n",
       "999      female        group D            some high school  free/reduced   \n",
       "\n",
       "    test preparation course  math score  reading score  writing score  \n",
       "1                 completed        69.0           90.0           88.0  \n",
       "2                      none        90.0           95.0           93.0  \n",
       "6                 completed        88.0           95.0           92.0  \n",
       "16                     none        88.0           89.0           86.0  \n",
       "54                completed        71.0           84.0           87.0  \n",
       "..                      ...         ...            ...            ...  \n",
       "979                    none        91.0           95.0           94.0  \n",
       "982               completed        79.0           85.0           86.0  \n",
       "983               completed        78.0           87.0           91.0  \n",
       "995               completed        88.0            0.0           95.0  \n",
       "999                    none        77.0           86.0           86.0  \n",
       "\n",
       "[146 rows x 8 columns]"
      ]
     },
     "execution_count": 100,
     "metadata": {},
     "output_type": "execute_result"
    }
   ],
   "source": [
    "students_performance_df_2 = students_performance_df[students_performance_df[\"writing score\"] > 83]\n",
    "students_performance_df_2.unique()"
   ]
  },
  {
   "cell_type": "code",
   "execution_count": 101,
   "metadata": {},
   "outputs": [
    {
     "data": {
      "text/plain": [
       "array(['some high school', \"master's degree\", 'high school',\n",
       "       \"associate's degree\", nan, \"bachelor's degree\"], dtype=object)"
      ]
     },
     "execution_count": 101,
     "metadata": {},
     "output_type": "execute_result"
    }
   ],
   "source": [
    "# Datos unicos de la columna parental level of education\n",
    "students_performance_df_2['parental level of education'].unique()"
   ]
  },
  {
   "cell_type": "code",
   "execution_count": null,
   "metadata": {},
   "outputs": [],
   "source": [
    "#7 ¿Qué porcentaje de los estudiantes obtuvieron puntajes iguales o superiores a\n",
    "#90 en las tres asignaturas? De estos estudiantes¿que porcentaje estudió para los exámenes?"
   ]
  },
  {
   "cell_type": "code",
   "execution_count": null,
   "metadata": {
    "id": "uX4cAOGPF6kr"
   },
   "outputs": [],
   "source": []
  }
 ],
 "metadata": {
  "colab": {
   "collapsed_sections": [
    "zEgaTbHXRre-",
    "ekFqez9xF6kj",
    "SEL-2qLAF6kj",
    "j5tpw7NQF6kq"
   ],
   "name": "eda-violencia-intrafamilia.ipynb",
   "provenance": []
  },
  "kernelspec": {
   "display_name": "Python 3 (ipykernel)",
   "language": "python",
   "name": "python3"
  },
  "language_info": {
   "codemirror_mode": {
    "name": "ipython",
    "version": 3
   },
   "file_extension": ".py",
   "mimetype": "text/x-python",
   "name": "python",
   "nbconvert_exporter": "python",
   "pygments_lexer": "ipython3",
   "version": "3.9.12"
  }
 },
 "nbformat": 4,
 "nbformat_minor": 4
}
